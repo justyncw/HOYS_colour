{
 "cells": [
  {
   "cell_type": "markdown",
   "metadata": {
    "colab_type": "text",
    "id": "EvHFKWYZJANu"
   },
   "source": [
    "# Colour viewer for HOYS lightcurves"
   ]
  },
  {
   "cell_type": "markdown",
   "metadata": {
    "colab_type": "text",
    "id": "PUR-JUyPYyS9"
   },
   "source": [
    "* ***Shift + Enter on a code cell to run it and advance to the next cell.***\n",
    "\n",
    "* ***If changing sliders, rerun the code block below the sliders***\n",
    "\n",
    "* ***Plot windows are interactive, can use mouse to select and zoom into ranges***"
   ]
  },
  {
   "cell_type": "code",
   "execution_count": null,
   "metadata": {
    "colab": {
     "base_uri": "https://localhost:8080/",
     "height": 187
    },
    "colab_type": "code",
    "executionInfo": {
     "elapsed": 10564,
     "status": "ok",
     "timestamp": 1600078048290,
     "user": {
      "displayName": "D Fry",
      "photoUrl": "https://lh3.googleusercontent.com/a-/AOh14GjgqmvFUD7Bgu_hnVHfn-CHliBNDrMJpeHZstwMtg=s64",
      "userId": "06625283264724170768"
     },
     "user_tz": -60
    },
    "id": "CYuEShfaJANw",
    "outputId": "233093d6-df9a-48a7-9183-9b6e90f0dee1"
   },
   "outputs": [],
   "source": [
    "#load required modules\n",
    "import os\n",
    "import pandas as pd\n",
    "import astropy\n",
    "import numpy\n",
    "import math\n",
    "from astropy.time import Time\n",
    "from astropy.timeseries import LombScargle\n",
    "import plotly.express as px\n",
    "import plotly.graph_objs as go\n",
    "import plotly.io as pio\n",
    "pio.templates.default = \"presentation\"\n",
    "from plotly.offline import iplot\n",
    "from ipywidgets import interact, interactive, fixed, interact_manual\n",
    "import ipywidgets as widgets\n",
    "from IPython.display import display,clear_output"
   ]
  },
  {
   "cell_type": "markdown",
   "metadata": {
    "colab_type": "text",
    "id": "AtF5-Iyoa8v5"
   },
   "source": [
    "### List available lightcurve data and select from dropdown list\n",
    "* Upload your .csv file to '/light_curve_csv_files'"
   ]
  },
  {
   "cell_type": "code",
   "execution_count": null,
   "metadata": {
    "colab": {
     "base_uri": "https://localhost:8080/",
     "height": 231
    },
    "colab_type": "code",
    "executionInfo": {
     "elapsed": 723,
     "status": "error",
     "timestamp": 1600080971192,
     "user": {
      "displayName": "D Fry",
      "photoUrl": "https://lh3.googleusercontent.com/a-/AOh14GjgqmvFUD7Bgu_hnVHfn-CHliBNDrMJpeHZstwMtg=s64",
      "userId": "06625283264724170768"
     },
     "user_tz": -60
    },
    "id": "laFLSK4cJAN1",
    "outputId": "2f8c389b-cad6-4ebc-f148-b708a875b6b4"
   },
   "outputs": [],
   "source": [
    "#read HOYS csv file\n",
    "lc_folder = \"./light_curve_csv_files/\"\n",
    "star_list=os.listdir(lc_folder)\n",
    "\n",
    "lc_select = widgets.Dropdown(\n",
    "    options=sorted(star_list),\n",
    "    description='Select a light curve file:',\n",
    "    style = {'description_width': 'initial'}\n",
    ")\n",
    "display(lc_select)"
   ]
  },
  {
   "cell_type": "markdown",
   "metadata": {},
   "source": [
    "### Display head and tail of csv file containing all of the data"
   ]
  },
  {
   "cell_type": "code",
   "execution_count": null,
   "metadata": {
    "colab": {
     "base_uri": "https://localhost:8080/",
     "height": 609
    },
    "colab_type": "code",
    "executionInfo": {
     "elapsed": 1002,
     "status": "ok",
     "timestamp": 1600078657556,
     "user": {
      "displayName": "D Fry",
      "photoUrl": "https://lh3.googleusercontent.com/a-/AOh14GjgqmvFUD7Bgu_hnVHfn-CHliBNDrMJpeHZstwMtg=s64",
      "userId": "06625283264724170768"
     },
     "user_tz": -60
    },
    "id": "yyZ8LAX0Z43Q",
    "outputId": "902bacf5-fe82-46a2-d7b8-361855e688bc"
   },
   "outputs": [],
   "source": [
    "print('selected datafile:',lc_select.value)\n",
    "lc_data = pd.read_csv(os.path.join(lc_folder,lc_select.value),comment='#',delimiter=' ')\n",
    "pd.set_option('display.max_columns', None)\n",
    "#view file head and tail\n",
    "lc_data"
   ]
  },
  {
   "cell_type": "markdown",
   "metadata": {},
   "source": [
    "### Select minimum calibration error and median window for colours"
   ]
  },
  {
   "cell_type": "code",
   "execution_count": null,
   "metadata": {
    "colab": {
     "base_uri": "https://localhost:8080/",
     "height": 139,
     "referenced_widgets": [
      "2169bba0df7e485bab16965d4abe8e9d",
      "cfe87b30e56e4a58929d2f991835f168",
      "c950b3d490a641ec9433383a8307e69d",
      "0fa9f9bd141b4c2685cb0c6d46418e2d",
      "30887ac47d234dfda0fa592f8ac53817",
      "3f7d36d7c2b847f1bda98913f08ab331",
      "cd281b8d03c045e09b37e651de823b70",
      "ca94dacd769942aab2bb4e611c7c1c1d",
      "c257e9341faa4abc9c7f3b18d2421809",
      "c99c1819d8d54eaa9c87923e0b0db5d8",
      "5915a78cfe2f4ef3b31f48d19ff973bd",
      "c79f7c5ad6564d96b906c6a5dafe02fe"
     ]
    },
    "colab_type": "code",
    "executionInfo": {
     "elapsed": 704,
     "status": "ok",
     "timestamp": 1600078661858,
     "user": {
      "displayName": "D Fry",
      "photoUrl": "https://lh3.googleusercontent.com/a-/AOh14GjgqmvFUD7Bgu_hnVHfn-CHliBNDrMJpeHZstwMtg=s64",
      "userId": "06625283264724170768"
     },
     "user_tz": -60
    },
    "id": "j6xNMvDQxLLd",
    "outputId": "5834b323-0312-475c-93e6-3464a06f9852"
   },
   "outputs": [],
   "source": [
    "cal_error_sel=widgets.FloatSlider(\n",
    "    value=0.1,\n",
    "    min=0.05,\n",
    "    max=0.2,\n",
    "    step=0.01,\n",
    "    description='Calibrated error [mag]:',\n",
    "    layout={'width': '600px'},\n",
    "    style = {'description_width': 'initial'}\n",
    ")\n",
    "display(cal_error_sel)\n",
    "\n",
    "med_window_sel=widgets.FloatSlider(\n",
    "    value=1,\n",
    "    min=0.5,\n",
    "    max=10,\n",
    "    step=0.1,\n",
    "    description='Median filter window [days]:',\n",
    "    layout={'width': '600px'},\n",
    "    style = {'description_width': 'initial'}\n",
    ")\n",
    "display(med_window_sel)"
   ]
  },
  {
   "cell_type": "markdown",
   "metadata": {},
   "source": [
    "### Query lightcurve data and define median colours based on selections"
   ]
  },
  {
   "cell_type": "code",
   "execution_count": null,
   "metadata": {
    "colab": {
     "base_uri": "https://localhost:8080/",
     "height": 542
    },
    "colab_type": "code",
    "executionInfo": {
     "elapsed": 1235,
     "status": "ok",
     "timestamp": 1600078671371,
     "user": {
      "displayName": "D Fry",
      "photoUrl": "https://lh3.googleusercontent.com/a-/AOh14GjgqmvFUD7Bgu_hnVHfn-CHliBNDrMJpeHZstwMtg=s64",
      "userId": "06625283264724170768"
     },
     "user_tz": -60
    },
    "id": "FknZd8A9xLLi",
    "outputId": "c3665ccc-679d-4afd-c3de-83be89a48a1b"
   },
   "outputs": [],
   "source": [
    "band=['B','V','R','I']\n",
    "cal_error=cal_error_sel.value\n",
    "med_window=med_window_sel.value\n",
    "\n",
    "filtered_data=lc_data[(lc_data['filter'].isin(band)) & (lc_data['flags'] <= 4) & (lc_data['calibrated_error'] < cal_error) & (lc_data['calibrated_magnitude'] > 0.0) & (lc_data['calibrated_error'] > 0.0) & (lc_data['fwhm_world'] > 0.0) & (lc_data['fwhm_world'] < 9.0/3600.0)]\n",
    "filtered_data=filtered_data.copy()\n",
    "filtered_data['mjd']=Time(filtered_data.date,format='jd').mjd\n",
    "filtered_data.reset_index(inplace=True,drop=True)\n",
    "#filtered_data['utc']=pd.to_datetime(filtered_data['date'],unit='D', origin='julian')\n",
    "\n",
    "#start=Time.now()\n",
    "\n",
    "# slow method in pandas\n",
    "# for date in filtered_data.index:\n",
    "#     med_mask=(abs(filtered_data['date'][date] - filtered_data['date']) < 1)\n",
    "#     for fil in band:\n",
    "#         filtered_data.loc[med_mask,fil]=numpy.median(filtered_data[med_mask]['calibrated_magnitude'][(filtered_data[med_mask]['filter']==fil)])\n",
    "\n",
    "#fast method with numpy arrays\n",
    "date=numpy.array(filtered_data['date'])\n",
    "filt=numpy.array(filtered_data['filter'])\n",
    "mag=numpy.array(filtered_data['calibrated_magnitude'])\n",
    "dt2=numpy.dtype([('B',numpy.float32),('V',numpy.float32),('R',numpy.float32),('I',numpy.float32),\n",
    "                ('Be',numpy.float32),('Ve',numpy.float32),('Re',numpy.float32),('Ie',numpy.float32)])\n",
    "colours=numpy.empty(mag.shape,dtype=dt2)\n",
    "colours[:]=numpy.nan\n",
    "for i in range(0,len(filtered_data)):\n",
    "    for f in band:\n",
    "        check = numpy.where( (filt == f) &  (numpy.abs(date[i] - date) < med_window) )\n",
    "        if len(check[0]>0):\n",
    "            colours[i][f]=numpy.median(mag[check[0]])\n",
    "            colours[i][f+'e'] = numpy.nanstd(mag[check[0]])/numpy.sqrt(float(len(mag[check[0]])))\n",
    "\n",
    "        \n",
    "colour_data=pd.concat((filtered_data,pd.DataFrame(colours)),axis=1)\n",
    "\n",
    "display(colour_data.sort_values(by='date'))\n",
    "\n",
    "#end=Time.now()\n",
    "#print((end-start).sec)"
   ]
  },
  {
   "cell_type": "markdown",
   "metadata": {},
   "source": [
    "### Lightcurve plot"
   ]
  },
  {
   "cell_type": "code",
   "execution_count": null,
   "metadata": {},
   "outputs": [],
   "source": [
    "def plot_lightcurve(date_range_sel=[min(filtered_data['mjd']),max(filtered_data['mjd'])],error_bars=False):\n",
    "    global filtered_data\n",
    "    filtered_data=colour_data[(colour_data['mjd'] > date_range_sel[0]) & (colour_data['mjd'] < date_range_sel[1])]\n",
    "\n",
    "    color_discrete_map = {'B': 'blue', 'V': 'green', 'R': 'red', 'I':'black'}\n",
    "\n",
    "    #plot lightcurve\n",
    "    if error_bars==True:\n",
    "        fig1=px.scatter(filtered_data,x=filtered_data.mjd,y=filtered_data.calibrated_magnitude,color='filter',color_discrete_map=color_discrete_map,labels={'x':'Date [mjd]'},\n",
    "                       error_y=filtered_data.calibrated_error)\n",
    "    else:\n",
    "        fig1=px.scatter(filtered_data,x=filtered_data.mjd,y=filtered_data.calibrated_magnitude,color='filter',color_discrete_map=color_discrete_map,labels={'x':'Date [mjd]'})\n",
    "    fig1['layout']['yaxis_title']='Magnitude [mag]'\n",
    "    fig1['layout']['xaxis_title']=f'Date [mjd]'\n",
    "    fig1['layout']['yaxis']['autorange'] = \"reversed\"\n",
    "    fig1['layout']['xaxis']['tickformat'] = \"3f\"\n",
    "\n",
    "    iplot(fig1)\n",
    "    \n",
    "interact(plot_lightcurve,date_range_sel=widgets.FloatRangeSlider(value=[min(filtered_data['mjd']),max(filtered_data['mjd'])],min=min(filtered_data['mjd']),max=max(filtered_data['mjd']),step=0.1,\n",
    "    description='Date range [mjd]:',readout_format='.1f',layout={'width': '600px'},style = {'description_width': 'initial'},continuous_update=False))\n"
   ]
  },
  {
   "cell_type": "markdown",
   "metadata": {},
   "source": [
    "### Colour curve plot"
   ]
  },
  {
   "cell_type": "code",
   "execution_count": null,
   "metadata": {},
   "outputs": [],
   "source": [
    "def view_colourcurve(col1='V',col2='I',error_bars=False):\n",
    "    if error_bars==True:\n",
    "        fig1=px.scatter(filtered_data,x=filtered_data.mjd,y=filtered_data[col1]-filtered_data[col2],labels={'x':'Date [mjd]', 'y':f'{col1}-{col2} [mag]'},\n",
    "                    error_y=numpy.sqrt(numpy.square(filtered_data[col1+'e']) + numpy.square(filtered_data[col2+'e'])))\n",
    "    else:\n",
    "        fig1=px.scatter(filtered_data,x=filtered_data.mjd,y=filtered_data[col1]-filtered_data[col2],labels={'x':'Date [mjd]', 'y':f'{col1}-{col2} [mag]'})\n",
    "    fig1['layout']['xaxis']['tickformat'] = \"3f\"\n",
    "    fig1['layout']['xaxis_title']=f'Date [mjd]'\n",
    "\n",
    "    iplot(fig1)\n",
    "\n",
    "interact(view_colourcurve,col1= widgets.Dropdown(options=(band),value='V',description='Select first colour',style = {'description_width': 'initial'}),\n",
    "                          col2= widgets.Dropdown(options=(band),value='I',description='Select second colour',style = {'description_width': 'initial'}))\n"
   ]
  },
  {
   "cell_type": "markdown",
   "metadata": {},
   "source": [
    "### Colour-magnitude plot"
   ]
  },
  {
   "cell_type": "code",
   "execution_count": null,
   "metadata": {},
   "outputs": [],
   "source": [
    "def plot_cmd(m1='V',col1='V',col2='I',A_v_l=1,A_v_c=numpy.min(filtered_data['V']-filtered_data['I']),A_v_m=numpy.min(filtered_data['V']),error_bars=False):\n",
    "    jd=Time(filtered_data.date,format='jd') \n",
    "    mjd=jd.mjd #plot mjd instead of jd\n",
    "    if error_bars==True:\n",
    "        fig1=px.scatter(filtered_data,x=filtered_data[col1]-filtered_data[col2],y=filtered_data[m1],color=mjd,\n",
    "                   error_y=numpy.sqrt(numpy.square(filtered_data[col1+'e']) + numpy.square(filtered_data[col2+'e'])),error_x=filtered_data[m1+'e'],\n",
    "                       labels={'x':f'Colour ({col1}-{col2})', 'y':f'Magnitude ({m1}) ','color':'date'})\n",
    "    else:\n",
    "        fig1=px.scatter(filtered_data,x=filtered_data[col1]-filtered_data[col2],y=filtered_data[m1],color=mjd,\n",
    "                        labels={'Y':f'Magnitude ({m1})','x':f'Colour ({col1}-{col2})', 'color':'date'})\n",
    "\n",
    "    A_3p1 = {'B': 4.7, 'V': 3.55, 'R': 2.66, 'I':1.7}\n",
    "    \n",
    "    A_mag_3p1=A_v_l * A_3p1[m1]/A_3p1['V']\n",
    "    A_col_3p1=A_v_l * ( (A_3p1[col1]/A_3p1['V']) - (A_3p1[col2]/A_3p1['V']) )\n",
    "        \n",
    "    xi = A_v_c\n",
    "    yi = A_v_m\n",
    "    fig2=px.line(x=(xi,xi+A_col_3p1),y=(yi,yi+A_mag_3p1),labels='R_v=3.1')\n",
    "    fig2.update_traces(line=dict(color = 'blue',width=3),name='R_v=3.1')\n",
    "\n",
    "    A_5 = {'B': 3.67, 'V': 3.06, 'R': 2.43, 'I':1.7}\n",
    "    \n",
    "    A_mag_5=A_v_l * A_5[m1]/A_5['V']\n",
    "    A_col_5=A_v_l * ( (A_5[col1]/A_5['V']) - (A_5[col2]/A_5['V']) )\n",
    "        \n",
    "    xi = A_v_c\n",
    "    yi = A_v_m\n",
    "    fig3=px.line(x=(xi,xi+A_col_5),y=(yi,yi+A_mag_5),labels='R_v=5.0')\n",
    "    fig3.update_traces(line=dict(color = 'green',width=3),name='R_v=5.0')\n",
    "   \n",
    "    fig4 = go.Figure(data=fig2.data  + fig3.data + fig1.data)\n",
    "    fig4['layout']['yaxis_title']=f'Magnitude ({m1}) [mag]'\n",
    "    fig4['layout']['xaxis_title']=f'Colour ({col1}-{col2}) [mag]'\n",
    "    fig4['layout']['yaxis']['autorange'] = \"reversed\"\n",
    "    fig4['layout']['coloraxis_colorbar']['title'] = 'Date [mjd]'\n",
    "    fig4['layout']['coloraxis']['colorscale'] = 'Matter'\n",
    "    fig4['data'][0]['showlegend']=True\n",
    "    fig4['data'][1]['showlegend']=True\n",
    "    fig4.update_layout(legend=dict(yanchor=\"top\",xanchor=\"right\"))\n",
    "    fig4.update_layout(autosize=False,width=900,height=600)\n",
    "    fig4.update_layout(legend_title=\"Extinction Vector\")\n",
    "    \n",
    "    fig4.show()\n",
    "    #iplot(fig1) \n",
    "    \n",
    "interact(plot_cmd,m1= widgets.Dropdown(options=(band),value='V',description='Select magnitude',style = {'description_width': 'initial'}),\n",
    "                         col1= widgets.Dropdown(options=(band),value='V',description='Select first colour',style = {'description_width': 'initial'}),\n",
    "                          col2= widgets.Dropdown(options=(band),value='I',description='Select second colour',style = {'description_width': 'initial'}),\n",
    "                        A_v_l=widgets.FloatSlider(value=1,min=0,max=5,step=0.01,description='Av vector start length [mag]:',layout={'width': '600px'},style = {'description_width': 'initial'},continuous_update=False),\n",
    "                        A_v_c=widgets.FloatSlider(value=numpy.min(filtered_data['V']-filtered_data['I']),min=numpy.min(filtered_data['V']-filtered_data['I'])-1,max=numpy.min(filtered_data['V']-filtered_data['I'])+1,step=0.01,description='Av vector start colour [mag]:',layout={'width': '600px'},style = {'description_width': 'initial'},continuous_update=False),\n",
    "                        A_v_m=widgets.FloatSlider(value=numpy.min(filtered_data['V']),min=numpy.min(filtered_data['V'])-2,max=numpy.min(filtered_data['V'])+2,step=0.01,description='Av vector start magnitude [mag]:',layout={'width': '600px'},style = {'description_width': 'initial'},continuous_update=False)\n",
    "        )\n",
    "   "
   ]
  },
  {
   "cell_type": "code",
   "execution_count": null,
   "metadata": {},
   "outputs": [],
   "source": []
  }
 ],
 "metadata": {
  "kernelspec": {
   "display_name": "Python 3",
   "language": "python",
   "name": "python3"
  },
  "language_info": {
   "codemirror_mode": {
    "name": "ipython",
    "version": 3
   },
   "file_extension": ".py",
   "mimetype": "text/x-python",
   "name": "python",
   "nbconvert_exporter": "python",
   "pygments_lexer": "ipython3",
   "version": "3.7.3"
  }
 },
 "nbformat": 4,
 "nbformat_minor": 4
}
